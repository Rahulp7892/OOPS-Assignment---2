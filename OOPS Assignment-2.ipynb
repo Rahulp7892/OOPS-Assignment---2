{
 "cells": [
  {
   "cell_type": "code",
   "execution_count": 1,
   "id": "6459d300-0d36-4f12-bf8c-b5f205b8c61e",
   "metadata": {},
   "outputs": [],
   "source": [
    "#Q .1 What is abstraction in OOps ? Explain with an example"
   ]
  },
  {
   "cell_type": "code",
   "execution_count": 2,
   "id": "3847b7f1-8401-4ecf-bb62-825cbd6628b1",
   "metadata": {},
   "outputs": [
    {
     "name": "stdout",
     "output_type": "stream",
     "text": [
      "Rectangle Area: 50\n",
      "Rectangle Perimeter: 30\n",
      "Circle Area: 153.86\n",
      "Circle Perimeter: 43.96\n"
     ]
    }
   ],
   "source": [
    "from abc import ABC, abstractmethod\n",
    "\n",
    "class Shape(ABC):\n",
    "    @abstractmethod\n",
    "    def area(self):\n",
    "        pass\n",
    "\n",
    "    @abstractmethod\n",
    "    def perimeter(self):\n",
    "        pass\n",
    "\n",
    "class Rectangle(Shape):\n",
    "    def __init__(self, width, height):\n",
    "        self.width = width\n",
    "        self.height = height\n",
    "\n",
    "    def area(self):\n",
    "        return self.width * self.height\n",
    "\n",
    "    def perimeter(self):\n",
    "        return 2 * (self.width + self.height)\n",
    "\n",
    "class Circle(Shape):\n",
    "    def __init__(self, radius):\n",
    "        self.radius = radius\n",
    "\n",
    "    def area(self):\n",
    "        return 3.14 * self.radius * self.radius\n",
    "\n",
    "    def perimeter(self):\n",
    "        return 2 * 3.14 * self.radius\n",
    "\n",
    "rectangle = Rectangle(5, 10)\n",
    "circle = Circle(7)\n",
    "\n",
    "print(f\"Rectangle Area: {rectangle.area()}\")       \n",
    "print(f\"Rectangle Perimeter: {rectangle.perimeter()}\")  \n",
    "\n",
    "print(f\"Circle Area: {circle.area()}\")             \n",
    "print(f\"Circle Perimeter: {circle.perimeter()}\")   "
   ]
  },
  {
   "cell_type": "code",
   "execution_count": 3,
   "id": "03f7774b-f274-452d-9726-ded2e70ce37c",
   "metadata": {},
   "outputs": [],
   "source": [
    "#Q.2 Differentiate between abstraction and encapsulation.Explain with an example."
   ]
  },
  {
   "cell_type": "code",
   "execution_count": 4,
   "id": "db78ff3e-5570-4f50-9400-15bfdf37aaef",
   "metadata": {},
   "outputs": [],
   "source": [
    "#Ans"
   ]
  },
  {
   "cell_type": "code",
   "execution_count": 6,
   "id": "ddd63201-ead0-4ff1-b043-171e2a8663f4",
   "metadata": {},
   "outputs": [
    {
     "name": "stdout",
     "output_type": "stream",
     "text": [
      "1300\n",
      "Account Number: 123456789, Balance: 1300\n"
     ]
    }
   ],
   "source": [
    "class BankAccount:\n",
    "    def __init__(self, account_number, balance):\n",
    "        self.__account_number = account_number  \n",
    "        self.__balance = balance  \n",
    "\n",
    "    def deposit(self, amount):\n",
    "        if amount > 0:\n",
    "            self.__balance += amount\n",
    "        else:\n",
    "            print(\"Deposit amount must be positive.\")\n",
    "\n",
    "    def withdraw(self, amount):\n",
    "        if 0 < amount <= self.__balance:\n",
    "            self.__balance -= amount\n",
    "        else:\n",
    "            print(\"Insufficient funds or invalid amount.\")\n",
    "\n",
    "    def get_balance(self):\n",
    "        return self.__balance\n",
    "\n",
    "    def account_summary(self):\n",
    "        return f\"Account Number: {self.__account_number}, Balance: {self.__balance}\"\n",
    "\n",
    "account = BankAccount(\"123456789\", 1000)\n",
    "\n",
    "account.deposit(500)\n",
    "account.withdraw(200)\n",
    "\n",
    "print(account.get_balance())          \n",
    "\n",
    "print(account.account_summary())     "
   ]
  },
  {
   "cell_type": "code",
   "execution_count": 7,
   "id": "dffe9eca-9cea-4f5c-b4a7-1c34b42da55b",
   "metadata": {},
   "outputs": [],
   "source": [
    "#Q.3 What is abc module in python? Why id it used ?"
   ]
  },
  {
   "cell_type": "code",
   "execution_count": 9,
   "id": "7105aaa9-f0d4-414c-8ff1-a4f77e319abf",
   "metadata": {},
   "outputs": [],
   "source": [
    "#Ans"
   ]
  },
  {
   "cell_type": "code",
   "execution_count": 11,
   "id": "6fc7dbb4-1b6e-417d-878c-fc8881cfaf5a",
   "metadata": {},
   "outputs": [
    {
     "name": "stdout",
     "output_type": "stream",
     "text": [
      "Sound: Woof!\n",
      "Movement: Runs on four legs.\n",
      "Sound: Chirp!\n",
      "Movement: Flies in the sky.\n"
     ]
    }
   ],
   "source": [
    "from abc import ABC, abstractmethod\n",
    "\n",
    "class Animal(ABC):\n",
    "    @abstractmethod\n",
    "    def make_sound(self):\n",
    "        \"\"\"Method that should be implemented by all subclasses to make a sound.\"\"\"\n",
    "        pass\n",
    "\n",
    "    @abstractmethod\n",
    "    def move(self):\n",
    "        \"\"\"Method that should be implemented by all subclasses to describe movement.\"\"\"\n",
    "        pass\n",
    "\n",
    "class Dog(Animal):\n",
    "    def make_sound(self):\n",
    "        return \"Woof!\"\n",
    "\n",
    "    def move(self):\n",
    "        return \"Runs on four legs.\"\n",
    "\n",
    "class Bird(Animal):\n",
    "    def make_sound(self):\n",
    "        return \"Chirp!\"\n",
    "\n",
    "    def move(self):\n",
    "        return \"Flies in the sky.\"\n",
    "\n",
    "def describe_animal(animal: Animal):\n",
    "    print(f\"Sound: {animal.make_sound()}\")\n",
    "    print(f\"Movement: {animal.move()}\")\n",
    "\n",
    "dog = Dog()\n",
    "bird = Bird()\n",
    "\n",
    "describe_animal(dog)\n",
    "describe_animal(bird)"
   ]
  },
  {
   "cell_type": "code",
   "execution_count": 12,
   "id": "ba6b2d95-51b3-420d-9634-56c95649f8ed",
   "metadata": {},
   "outputs": [],
   "source": [
    "#Q.4 How can we achieve data abstraction?"
   ]
  },
  {
   "cell_type": "code",
   "execution_count": 13,
   "id": "8f646038-177e-4bdf-89b6-e7b5d4fab5fc",
   "metadata": {},
   "outputs": [],
   "source": [
    "#Ans"
   ]
  },
  {
   "cell_type": "code",
   "execution_count": 14,
   "id": "be209924-298f-49dc-8595-07961448af02",
   "metadata": {},
   "outputs": [
    {
     "name": "stdout",
     "output_type": "stream",
     "text": [
      "Area: 50\n",
      "Perimeter: 30\n",
      "Area: 153.86\n",
      "Perimeter: 43.96\n"
     ]
    }
   ],
   "source": [
    "from abc import ABC, abstractmethod\n",
    "\n",
    "class Shape(ABC):\n",
    "    @abstractmethod\n",
    "    def area(self):\n",
    "        \"\"\"Calculate the area of the shape.\"\"\"\n",
    "        pass\n",
    "\n",
    "    @abstractmethod\n",
    "    def perimeter(self):\n",
    "        \"\"\"Calculate the perimeter of the shape.\"\"\"\n",
    "        pass\n",
    "\n",
    "class Rectangle(Shape):\n",
    "    def __init__(self, width, height):\n",
    "        self.width = width\n",
    "        self.height = height\n",
    "\n",
    "    def area(self):\n",
    "        return self.width * self.height\n",
    "\n",
    "    def perimeter(self):\n",
    "        return 2 * (self.width + self.height)\n",
    "\n",
    "class Circle(Shape):\n",
    "    def __init__(self, radius):\n",
    "        self.radius = radius\n",
    "\n",
    "    def area(self):\n",
    "        return 3.14 * self.radius * self.radius\n",
    "\n",
    "    def perimeter(self):\n",
    "        return 2 * 3.14 * self.radius\n",
    "\n",
    "def print_shape_details(shape: Shape):\n",
    "    print(f\"Area: {shape.area()}\")\n",
    "    print(f\"Perimeter: {shape.perimeter()}\")\n",
    "\n",
    "rectangle = Rectangle(5, 10)\n",
    "circle = Circle(7)\n",
    "\n",
    "print_shape_details(rectangle)\n",
    "print_shape_details(circle)"
   ]
  },
  {
   "cell_type": "code",
   "execution_count": 15,
   "id": "b6599d95-dd96-460d-b7a4-35cea3545ecd",
   "metadata": {},
   "outputs": [
    {
     "name": "stdout",
     "output_type": "stream",
     "text": [
      "1300\n"
     ]
    }
   ],
   "source": [
    "class BankAccount:\n",
    "    def __init__(self, account_number, balance):\n",
    "        self.__account_number = account_number \n",
    "        self.__balance = balance \n",
    "\n",
    "    def deposit(self, amount):\n",
    "        if amount > 0:\n",
    "            self.__balance += amount\n",
    "        else:\n",
    "            print(\"Deposit amount must be positive.\")\n",
    "\n",
    "    def withdraw(self, amount):\n",
    "        if 0 < amount <= self.__balance:\n",
    "            self.__balance -= amount\n",
    "        else:\n",
    "            print(\"Insufficient funds or invalid amount.\")\n",
    "\n",
    "    def get_balance(self):\n",
    "        return self.__balance\n",
    "\n",
    "account = BankAccount(\"123456789\", 1000)\n",
    "account.deposit(500)\n",
    "account.withdraw(200)\n",
    "print(account.get_balance())  "
   ]
  },
  {
   "cell_type": "code",
   "execution_count": 16,
   "id": "d5258d4d-1ccd-40ac-a66d-b86763fa7970",
   "metadata": {},
   "outputs": [
    {
     "name": "stdout",
     "output_type": "stream",
     "text": [
      "25\n",
      "77.0\n",
      "86.0\n"
     ]
    }
   ],
   "source": [
    "class Temperature:\n",
    "    def __init__(self, celsius):\n",
    "        self.__celsius = celsius\n",
    "\n",
    "    @property\n",
    "    def celsius(self):\n",
    "        return self.__celsius\n",
    "\n",
    "    @celsius.setter\n",
    "    def celsius(self, value):\n",
    "        if value < -273.15:\n",
    "            raise ValueError(\"Temperature cannot be below absolute zero.\")\n",
    "        self.__celsius = value\n",
    "\n",
    "    @property\n",
    "    def fahrenheit(self):\n",
    "        return (self.__celsius * 9/5) + 32\n",
    "\n",
    "temp = Temperature(25)\n",
    "print(temp.celsius)  \n",
    "print(temp.fahrenheit)  \n",
    "\n",
    "temp.celsius = 30\n",
    "print(temp.fahrenheit)  "
   ]
  },
  {
   "cell_type": "code",
   "execution_count": 17,
   "id": "10907b3b-2989-4941-bc95-556da478c6d0",
   "metadata": {},
   "outputs": [],
   "source": [
    "#Q.5 Can we create an instance of an abstract class?Explain your answer."
   ]
  },
  {
   "cell_type": "code",
   "execution_count": 18,
   "id": "f4d8c595-ec57-4fbc-ba58-9c15d12f1f0a",
   "metadata": {},
   "outputs": [],
   "source": [
    "#Ans"
   ]
  },
  {
   "cell_type": "code",
   "execution_count": 19,
   "id": "fc1fca1d-a2c5-487d-85b4-1b67e18a007c",
   "metadata": {},
   "outputs": [
    {
     "name": "stdout",
     "output_type": "stream",
     "text": [
      "Error: Can't instantiate abstract class Animal with abstract methods make_sound, move\n"
     ]
    }
   ],
   "source": [
    "from abc import ABC, abstractmethod\n",
    "\n",
    "class Animal(ABC):\n",
    "    @abstractmethod\n",
    "    def make_sound(self):\n",
    "        \"\"\"Method that must be implemented by subclasses.\"\"\"\n",
    "        pass\n",
    "\n",
    "    @abstractmethod\n",
    "    def move(self):\n",
    "        \"\"\"Method that must be implemented by subclasses.\"\"\"\n",
    "        pass\n",
    "\n",
    "try:\n",
    "    animal = Animal()\n",
    "except TypeError as e:\n",
    "    print(f\"Error: {e}\")"
   ]
  },
  {
   "cell_type": "code",
   "execution_count": 20,
   "id": "58c9e6ac-28a7-4bb9-abd0-1e198b9d863b",
   "metadata": {},
   "outputs": [
    {
     "name": "stdout",
     "output_type": "stream",
     "text": [
      "Woof!\n",
      "Runs on four legs.\n"
     ]
    }
   ],
   "source": [
    "class Dog(Animal):\n",
    "    def make_sound(self):\n",
    "        return \"Woof!\"\n",
    "\n",
    "    def move(self):\n",
    "        return \"Runs on four legs.\"\n",
    "\n",
    "dog = Dog()\n",
    "print(dog.make_sound())  \n",
    "print(dog.move())        "
   ]
  }
 ],
 "metadata": {
  "kernelspec": {
   "display_name": "Python 3 (ipykernel)",
   "language": "python",
   "name": "python3"
  },
  "language_info": {
   "codemirror_mode": {
    "name": "ipython",
    "version": 3
   },
   "file_extension": ".py",
   "mimetype": "text/x-python",
   "name": "python",
   "nbconvert_exporter": "python",
   "pygments_lexer": "ipython3",
   "version": "3.10.8"
  }
 },
 "nbformat": 4,
 "nbformat_minor": 5
}
